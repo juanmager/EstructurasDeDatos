{
  "nbformat": 4,
  "nbformat_minor": 0,
  "metadata": {
    "colab": {
      "name": "Copy of Trabajo practico 2_ Tipos de datos Abstractos.ipynb",
      "provenance": [],
      "collapsed_sections": []
    },
    "kernelspec": {
      "name": "python2716jvsc74a57bd0545e036c4b32438aced1f6b3c8d38ca151d9c36189e05839cb0aa568fda70ddd",
      "display_name": "Python 2.7.16 64-bit"
    },
    "metadata": {
      "interpreter": {
        "hash": "545e036c4b32438aced1f6b3c8d38ca151d9c36189e05839cb0aa568fda70ddd"
      }
    }
  },
  "cells": [
    {
      "cell_type": "markdown",
      "metadata": {
        "id": "42630xxYD0gZ"
      },
      "source": [
        "# ![alt text](https://upload.wikimedia.org/wikipedia/commons/thumb/c/c3/Python-logo-notext.svg/50px-Python-logo-notext.svg.png) **Trabajo Práctico 2: Tipos de datos abstractos** ![alt text](https://upload.wikimedia.org/wikipedia/commons/thumb/c/c3/Python-logo-notext.svg/50px-Python-logo-notext.svg.png)\n",
        "\n",
        "En este trabajo práctico, vamos a trabajar con la definición de tipos de datos abstractos en Python. Recuerden crear una copia de este archivo en su ***Google Drive*** para tener permisos de edición.\n",
        "\n",
        "### Sergio: **sergio.gonzalez@unahur.edu.ar** ###\n",
        "### Ariel: **aclocchi@gmail.com** ###\n"
      ]
    },
    {
      "cell_type": "markdown",
      "metadata": {
        "id": "cwvo5HlCXnwM"
      },
      "source": [
        "**En cada ejercicio, luego de implementar el TDA pedido, tienen que probar cada una de las operaciones en un programa principal, ejecutando cada una de ellas**\n",
        "\n",
        "**En el video les comenté de la función \\_\\_str__ para la representación de variables de los TDAs, en lugar de \\_\\_str__ pueden implementar \\_\\_repr__ que es similar pero más general (No solo sirve para el *print*, sino para la representación en general de variables del TDA)**"
      ]
    },
    {
      "cell_type": "markdown",
      "metadata": {
        "id": "DyzOhAhyXPt8"
      },
      "source": [
        "### **Ejercicio 1**\n",
        "\n",
        "Implementar el TDA \"Propiedad\" que modela un inmueble, con una estructura definida por los siguientes componentes:\n",
        "- Calle\n",
        "- Número\n",
        "- Localidad\n",
        "- Año de construcción\n",
        "- Cantidad de ambientes\n",
        "\n",
        "Implementar las siguientes operaciones:\n",
        "- Constructor: Debe incluir las validaciones necesarias, teniendo en cuenta que solo se almacenan propiedades construidas luego de 1870.\n",
        "- \\_\\_repr__: Al usar la función *print* con una variable del tipo propiedad debe mostrar: **'calle' 'numero' ('localidad')**.\n",
        "- mismaLocalidad: Operación que recibe dos propiedades y retorna *True* si estan en la misma localidad y *False* en caso contrario.\n",
        "- mayorNumeración: Operación que recibe dos propiedades y si están en la misma calle, retorna la que posee mayor numeración. Si están calles diferentes debe lanzar una excepción.\n",
        "- calculaImpuestoARBA: Operación que retorna el porcentaje de impuesto inmobiliario de una propiedad, según la siguiente regla:\n",
        " - Propiedades entre 1870 y 1949:\n",
        "   - Entre 1 y 3 ambientes: 5% de impuesto\n",
        "   - Entre 4 y 6 ambientes: 10% de impuesto\n",
        "   - Más de 6 ambientes: 25 % de impuesto\n",
        " - Propiedades desde 1950 hasta la actualidad:\n",
        "   - Entre 1 y 5 ambientes: 5% de impuesto\n",
        "   - Más de 5 ambientes: 35 % de impuesto\n"
      ]
    },
    {
      "cell_type": "code",
      "metadata": {
        "id": "RaEQSMR_cgI_"
      },
      "source": [
        "def validaAnio(anio):\n",
        "  if isinstance(anio, int) and anio > 1870:\n",
        "    return anio\n",
        "  else:\n",
        "    raise Exception(\"El año debe ser mayor a 1870.\")\n",
        "def validaString(cadena, nombre):\n",
        "  if isinstance(cadena, str):\n",
        "    return cadena\n",
        "  else:\n",
        "    raise Exception(\"La \"+nombre+\" debe ser un string.\")\n",
        "def validaPositivo(numero, nombre):\n",
        "  if isinstance(numero, int) and numero > 0:\n",
        "    return numero\n",
        "  else:\n",
        "    raise Exception(nombre+\" debe ser un numero positivo.\")\n",
        "\n",
        "class Propiedad:\n",
        "  def __init__(self, calle, numero, localidad, anioConstruccion, cantAmbientes):\n",
        "    self.calle = validaString(calle, \"calle\")\n",
        "    self.numero = validaPositivo(numero, \"numero\")\n",
        "    self.localidad = validaString(localidad, \"localidad\")\n",
        "    self.anioConstruccion = validaAnio(anioConstruccion)\n",
        "    self.cantAmbientes = validaPositivo(cantAmbientes, \"cantAmbientes\")\n",
        "  \n",
        "  def __repr__(self):\n",
        "    return str(self.calle) +\" \" + str(self.numero) + \" (\" + self.localidad + \")\"\n",
        "\n",
        "  def mismaLocalidad(self, prop2):\n",
        "    return self.localidad == prop2.localidad\n",
        "\n",
        "  def obtenerCalle(self):\n",
        "    return self.calle\n",
        "\n",
        "  def modificaCalle(self, calleNueva):\n",
        "    self.calle = validaString(calleNueva, \"calle\")\n",
        "\n",
        "  def clonar(self):\n",
        "    return Propiedad(self.calle, self.numero, self.localidad, self.anioConstruccion, self.cantAmbientes)\n",
        "\n",
        "  def __eq__(self, prop2):\n",
        "    return self.calle == prop2.calle and self.numero == prop2.numero and self.localidad == prop2.localidad and \\\n",
        "           prop2.anioConstruccion == prop2.anioConstruccion and self.cantAmbientes == prop2.cantAmbientes\n",
        "\n",
        "def propiedadesEnMismaCalle(prop1, prop2):\n",
        "  return prop1.obtenerCalle() == prop2.obtenerCalle()\n",
        "\n",
        "prop1 = Propiedad(\"San Martin\", 500, \"A\", 2000, 5)\n",
        "prop2 = Propiedad(\"San Martin\", 500, \"A\", 2000, 5)\n",
        "\n",
        "prop1.modificaCalle(\"Belgrano\")\n"
      ],
      "execution_count": null,
      "outputs": []
    },
    {
      "cell_type": "markdown",
      "metadata": {
        "id": "1yx_0M8PtkmE"
      },
      "source": [
        "### **Ejercicio 2**\n",
        "\n",
        "Implementar el TDA \"Quiniela\" que modela un juego de quiniela con dos números premiados. La estructura contiene:\n",
        "- Primer número premiado\n",
        "- Segundo número premiado\n",
        "- Multiplicador (cuánto se paga por cada peso apostado)\n",
        "\n",
        "Implementar las siguientes operaciones:\n",
        "- Constructor: Debe incluir las validaciones necesarias, teniendo en cuenta que los números que participan se encuentran entre 0 y 999.\n",
        "- \\_\\_repr__: Al usar la función *print* con una variable del tipo quiniela debe mostrar: **Primer número ganador: 'numero' - Segundo número ganador: 'numero' - Paga: 'multiplicador'X**.\n",
        "- esNumeroGanador: Operación que recibe un número por parámetros y retorna *True* si el número resultó ganador o *False* en caso contrario.\n",
        "- importeAPagar: Operación que recibe un número y el monto apostado por parámetros y retorna el importe a pagar si la apuesta es ganadora o 0 en caso contrario. Si el número es el primer premio, se paga 'mutiplicador' por cada peso apostado, si es el segundo premio se paga la mitad. Solo se aceptan apuestas hasta $1000.\n",
        "- premiadosCercanos: Operación que retorna *True* si los números premiados están a menos de 10 números de distancia y *False* en caso contrario. \n",
        "\n",
        "\n"
      ]
    },
    {
      "cell_type": "code",
      "metadata": {
        "id": "LgWOgCAYe-Iy"
      },
      "source": [],
      "execution_count": null,
      "outputs": []
    },
    {
      "cell_type": "markdown",
      "metadata": {
        "id": "rP1dZEXTe-qq"
      },
      "source": [
        "### **Ejercicio 3**\n",
        "\n",
        "Implementar el TDA \"Cuenta\" que modela una cuenta bancaria, la estructura de datos esta compuesta por los siguientes componentes:\n",
        "- Número de cuenta\n",
        "- DNI del titular\n",
        "- Saldo de cuenta actual\n",
        "- Interés anual\n",
        "\n",
        "Implementar las siguientes operaciones:\n",
        "- Constructor: Debe incluir las validaciones necesarias.\n",
        "- \\_\\_repr__: Al usar la función *print* con una variable del tipo cuenta debe mostrar: **Cuenta Nro: 'numero' - Titular: 'dni' ($'saldo')**.\n",
        "- actualizarSaldo: Operación que actualiza el saldo de la cuenta aplicándole el interés diario (interés anual dividido entre 365).\n",
        "- ingresarDinero: Operación que recibe un número e ingresa esa cantidad en la cuenta.\n",
        "- retirarDinero: Operación que recibe un número y extrae esa cantidad de la cuenta (si hay saldo disponible), sino debe lanzar una excepción."
      ]
    },
    {
      "cell_type": "code",
      "metadata": {
        "id": "IEDFppP6hENW"
      },
      "source": [],
      "execution_count": null,
      "outputs": []
    },
    {
      "cell_type": "markdown",
      "metadata": {
        "id": "x8DVU8HlhE2q"
      },
      "source": [
        "### **Ejercicio 4**\n",
        "\n",
        "Implementar el TDA \"Tiempo\" que modela una duracion en horas, minutos y segundos.\n",
        "\n",
        "Se deben implementar las siguientes operaciones:\n",
        "- Constructor: Debe incluir las validaciones necesarias, la hora debe ser un número positivo y los minutos y segundos deben ser números positivos entre 0 y 59.\n",
        "- \\_\\_repr__: Al usar la función *print* con una variable del tipo tiempo debe mostrar: **'horas':'minutos':'segundos'**.\n",
        "- tiempoASegundos: Operación que toma una variable de tipo tiempo y retorna la cantidad en segundos.\n",
        "- tiemposDesdeSegundos: Operación que recibe un tiempo en segundos como parámetro y retorna una variable de tipo tiempo, en horas minutos y segundos. \n",
        "- mayorDuracion: Operación que recibe dos variables de tipo tiempo y retorna la de mayor duración."
      ]
    },
    {
      "cell_type": "code",
      "metadata": {
        "id": "5Y-A98mZkTEq",
        "colab": {
          "base_uri": "https://localhost:8080/"
        },
        "outputId": "332affaf-0d3a-4489-9a36-15afd9eb2c18"
      },
      "source": [
        "class Tiempo:\n",
        "  def __init__(self, horas, minutos, segundos):\n",
        "    self.horas = horas\n",
        "    self.minutos = minutos\n",
        "    self.segundos = segundos\n",
        "  \n",
        "  def __repr__(self):\n",
        "    return str(self.horas) + \":\" + str(self.minutos) + \":\" + str(self.segundos)\n",
        "\n",
        "t1 = Tiempo(1,32,34)\n",
        "print(t1)\n"
      ],
      "execution_count": 2,
      "outputs": [
        {
          "output_type": "stream",
          "name": "stdout",
          "text": [
            "1:32:34\n"
          ]
        }
      ]
    },
    {
      "cell_type": "markdown",
      "metadata": {
        "id": "30rZj5FbkT9T"
      },
      "source": [
        "### **Ejercicio 5**\n",
        "\n",
        "Las plataformas de música online como ***YouTube*** y ***Spotify*** almacenan la información asociada a las canciones en estructuras de datos complejas para hacer las búsquedas de manera eficiente. Para esto se deben modelar las canciones. Implementar el TDA \"Cancion\" con los siguientes componentes:\n",
        "- Nombre\n",
        "- Artista\n",
        "- Duración\n",
        "- Género musical (6 posibles: Rock, Jazz, Blues, Funk, Reggae y Rap).\n",
        "- Año de edición\n",
        "- Número de likes\n",
        "\n",
        "Implementar las siguientes operaciones:\n",
        "- Constructor: Debe incluir las validaciones necesarias.\n",
        "- \\_\\_repr__: Al usar la función *print* con una variable del tipo canción debe mostrar: **'nombre' - 'artista' ('duracion')**.\n",
        "- mayorDuracion: Operación que recibe dos canciones por parámetros y retorna la de mayor duración.\n",
        "- agregaLikes: Operación que recibe un número e incrementa la cantidad de likes de la canción en ese número.\n",
        "- masVotada: Operacion que recibe dos canciones y sin son del mismo artista y del mismo género musical, retorna la que tiene mayor cantidad de likes. En caso contrario debe lanzar una excepción."
      ]
    },
    {
      "cell_type": "code",
      "metadata": {
        "id": "6PllhJFLxsp_"
      },
      "source": [
        "def validaDuracion(tiempo):\n",
        "  if isinstance(tiempo, Tiempo):\n",
        "    return tiempo\n",
        "  else:\n",
        "    raise Exception(\"La duracion debe ser una variable de tipo Tiempo\")\n",
        "\n",
        "class Cancion:\n",
        "  def __init__(self, nombre, artista, duracion, genero, anio, nLikes):\n",
        "    self.nombre = nombre\n",
        "    self.artista = artista\n",
        "    self.duracion = validaDuracion(duracion)\n",
        "    self.genero = genero\n",
        "    self.anio = anio\n",
        "    self.nLikes = nLikes\n",
        "\n",
        "canc1 = Cancion(\"sdsd\", \"sddsd\", Tiempo(1,2,3), \"sdsd\", 2010, 20)\n",
        "print(canc1.duracion)"
      ],
      "execution_count": 6,
      "outputs": [
        {
          "output_type": "stream",
          "name": "stdout",
          "text": [
            "1:2:3\n"
          ]
        }
      ]
    },
    {
      "cell_type": "code",
      "execution_count": null,
      "metadata": {},
      "outputs": [],
      "source": []
    }
  ]
}