{
  "nbformat": 4,
  "nbformat_minor": 0,
  "metadata": {
    "colab": {
      "name": "Copy of Trabajo practico 4 - Arreglos.ipynb",
      "provenance": [],
      "include_colab_link": true
    },
    "kernelspec": {
      "name": "python3",
      "display_name": "Python 3"
    }
  },
  "cells": [
    {
      "cell_type": "markdown",
      "metadata": {
        "id": "view-in-github",
        "colab_type": "text"
      },
      "source": [
        "<a href=\"https://colab.research.google.com/github/juanmager/EstructurasDeDatos/blob/master/TP_4_Arreglos.ipynb\" target=\"_parent\"><img src=\"https://colab.research.google.com/assets/colab-badge.svg\" alt=\"Open In Colab\"/></a>"
      ]
    },
    {
      "cell_type": "markdown",
      "metadata": {
        "id": "42630xxYD0gZ"
      },
      "source": [
        "# ![alt text](https://upload.wikimedia.org/wikipedia/commons/thumb/c/c3/Python-logo-notext.svg/50px-Python-logo-notext.svg.png) **Trabajo Práctico 4: Arreglos uni y multidimensionales** ![alt text](https://upload.wikimedia.org/wikipedia/commons/thumb/c/c3/Python-logo-notext.svg/50px-Python-logo-notext.svg.png)\n",
        "\n",
        "En este trabajo práctico, vamos a trabajar con arreglos uni y multidimensionales en Python. Recuerden crear una copia de este archivo en su ***Google Drive*** para tener permisos de edición.\n",
        "\n",
        "### email Sergio: **sergio.gonzalez@unahur.edu.ar**\n",
        "### email Ariel: **aclocchi@gmail.com**"
      ]
    },
    {
      "cell_type": "markdown",
      "metadata": {
        "id": "xjXgmD3mskbR"
      },
      "source": [
        "### **Ejercicio 1**\n",
        "\n",
        "Escribir un programa que le pida al usuario que ingrese 10 números  enteros (primero uno, luego otro, y así hasta que el usuario ingrese 10 numeros). Al final, el programa debe imprimir los números que fueron ingresados en orden inverso, la suma total de los valores y el promedio."
      ]
    },
    {
      "cell_type": "code",
      "metadata": {
        "id": "sJuWgqpe8Sjx"
      },
      "source": [
        ""
      ],
      "execution_count": null,
      "outputs": []
    },
    {
      "cell_type": "markdown",
      "metadata": {
        "id": "xQdIQRhp-STK"
      },
      "source": [
        "### **Ejercicio 2**\n",
        "\n",
        "Escribir una función que recibe un arreglo de enteros por parámetro y lo retorna con el contenido desplazado una posición hacia la derecha: el primero pasa a ser el segundo, el segundo pasa a ser el tercero y así sucesivamente. El último pasa a ser el primero. \n",
        "\n",
        "Luego, escribir un programa que cargue un arreglo con valores ingresados por el usuario y llame a la función con ese arreglo. Mostrar el contenido del arreglo por pantalla, antes y después de la función."
      ]
    },
    {
      "cell_type": "code",
      "metadata": {
        "id": "w6qrLd4-XwHB",
        "colab": {
          "base_uri": "https://localhost:8080/"
        },
        "outputId": "583ff9eb-ced6-4768-df1b-04b5ebc15e8f"
      },
      "source": [
        "## vector = [1 2 3 6 2 54 7]\n",
        "## vector = [7 1 2 3 6 2 54]\n",
        "\n",
        "import numpy as np\n",
        "\n",
        "def correADerecha(vector):\n",
        "  nVector = len(vector)\n",
        "  aux = vector[nVector-1]\n",
        "  for pos in reversed(range(1,nVector)):\n",
        "    vector[pos] = vector[pos - 1]\n",
        "  vector[0] = aux\n",
        "\n",
        "v = np.array([1,2,3,6,2,54,7])\n",
        "print(v)\n",
        "correADerecha(v)\n",
        "print(v)"
      ],
      "execution_count": null,
      "outputs": [
        {
          "output_type": "stream",
          "text": [
            "[ 1  2  3  6  2 54  7]\n",
            "[ 7  1  2  3  6  2 54]\n"
          ],
          "name": "stdout"
        }
      ]
    },
    {
      "cell_type": "markdown",
      "metadata": {
        "id": "uMMYGjtoXuJD"
      },
      "source": [
        "### **Ejercicio 3**\n",
        "\n",
        "Desarrollar una función que inserte un elemento en un arreglo de enteros dada la posición de inserción. Al insertar un elemento en una posición, se produce un desplazamiento a la derecha, si el arreglo estaba lleno, el último elemento se pierde."
      ]
    },
    {
      "cell_type": "code",
      "metadata": {
        "id": "rQEF6QpbX-r0"
      },
      "source": [
        "## vector = [1 2 4 5 3]\n",
        "##Insertamos el 10 en la posicion 1\n",
        "## vector = [1 10 2 4 5]"
      ],
      "execution_count": null,
      "outputs": []
    },
    {
      "cell_type": "markdown",
      "metadata": {
        "id": "FvY2_qmwX_KA"
      },
      "source": [
        "### **Ejercicio 4**\n",
        "\n",
        "Escribir una función que elimine el elemento que ocupa una determinada posición de un arreglo de enteros.  Al eliminar se debe mantener la continuidad, es decir, los elementos a la derecha del eliminado, deben desplazarse a la izquierda un lugar."
      ]
    },
    {
      "cell_type": "code",
      "metadata": {
        "id": "UvYJknRvYTla",
        "colab": {
          "base_uri": "https://localhost:8080/"
        },
        "outputId": "3660ee79-f514-4283-f2c9-41132bf5d94a"
      },
      "source": [
        "## vector = [1 2 8 5 3 4 5]\n",
        "## Eliminar el elemento de la posicion 3\n",
        "## vector = [1 2 8 3 4 5 0]\n",
        "\n",
        "def eliminarElemento(vector, posEliminar):\n",
        "  if 0 > posEliminar > len(vector)-1:\n",
        "    raise Exception(\"Posicion invalida.\")\n",
        "  for pos in range(posEliminar,len(vector)-1):\n",
        "    vector[pos] = vector[pos+1]\n",
        "  vector[len(vector)-1] = 0\n",
        "\n",
        "v = np.array([1, 2, 8, 5, 3, 4, 5])\n",
        "print(v)\n",
        "eliminarElemento(v,3)\n",
        "print(v)"
      ],
      "execution_count": null,
      "outputs": [
        {
          "output_type": "stream",
          "text": [
            "[1 2 8 5 3 4 5]\n",
            "[1 2 8 3 4 5 0]\n"
          ],
          "name": "stdout"
        }
      ]
    },
    {
      "cell_type": "markdown",
      "metadata": {
        "id": "dfuNkFxdYT--"
      },
      "source": [
        "### **Ejercicio 5**\n",
        "\n",
        "Escribir una función que elimine todas las apariciones de un determinado elemento de un arreglo de enteros."
      ]
    },
    {
      "cell_type": "code",
      "metadata": {
        "id": "o6twFUebYsO3"
      },
      "source": [
        "## vector = [1 3 3 4 5 6 3 7 3]\n",
        "## vector = [1 3 4 5 6 3 7 3 0]\n"
      ],
      "execution_count": null,
      "outputs": []
    },
    {
      "cell_type": "markdown",
      "metadata": {
        "id": "X1Vx_Ubwdj32"
      },
      "source": [
        "### **Ejercicio 6**\n",
        "\n",
        "Escribir una función recursiva que reciba un arreglo de números reales como parámetro y retorne la suma de todos los elementos del arreglo. "
      ]
    },
    {
      "cell_type": "code",
      "metadata": {
        "id": "5IO-wH84dkav",
        "colab": {
          "base_uri": "https://localhost:8080/"
        },
        "outputId": "06717e9c-11d6-4b81-d35e-6b6a5af66309"
      },
      "source": [
        "## vector = [1 2 6 2 5 7 3 3 5 6]\n",
        "## sum(vector) = vector[0] + sum([2 6 2 5 7 3 3 5 6])\n",
        "## Caso base = Vector de un elemento\n",
        "\n",
        "def sumaVector(vector):\n",
        "  suma = 0\n",
        "  if len(vector) == 1:\n",
        "    suma = vector[0]\n",
        "  else:\n",
        "    suma = vector[0] + sumaVector(vector[1:])\n",
        "  return suma\n",
        "\n",
        "v = np.array([1, 2, 8, 5, 3, 4, 5])\n",
        "print(v)\n",
        "print(sumaVector(v))\n",
        "\n",
        "def sumaVector2(vector, posActual = 0):\n",
        "  suma = 0\n",
        "  if posActual == len(vector)-1:\n",
        "    suma = vector[posActual]\n",
        "  else:\n",
        "    suma = vector[posActual] + sumaVector2(vector, posActual+1)\n",
        "  return suma\n",
        "\n",
        "print(sumaVector2(v))"
      ],
      "execution_count": null,
      "outputs": [
        {
          "output_type": "stream",
          "text": [
            "[1 2 8 5 3 4 5]\n",
            "28\n",
            "28\n"
          ],
          "name": "stdout"
        }
      ]
    },
    {
      "cell_type": "markdown",
      "metadata": {
        "id": "ZJIIFv_zYsrF"
      },
      "source": [
        "### **Ejercicio 7**\n",
        "\n",
        "Escribir un programa que crea y cargar dos matrices de tamaño 3x3, las suma y muestra el resultado."
      ]
    },
    {
      "cell_type": "code",
      "metadata": {
        "id": "JS3EgBP4ZpLs"
      },
      "source": [
        ""
      ],
      "execution_count": null,
      "outputs": []
    },
    {
      "cell_type": "markdown",
      "metadata": {
        "id": "0g6QV3ZhZp6J"
      },
      "source": [
        "### **Ejercicio 8**\n",
        "\n",
        "Escribir una función que recibe una matriz y la rellena de la siguiente forma: En la posición M[ n , m ] debe contener n + m. "
      ]
    },
    {
      "cell_type": "code",
      "metadata": {
        "id": "UW1iXcs9aULl",
        "colab": {
          "base_uri": "https://localhost:8080/"
        },
        "outputId": "aa286dff-e1eb-4e59-bc58-0ced326e97ed"
      },
      "source": [
        "### 0 1 2\n",
        "### 1 2 3\n",
        "### 2 3 4\n",
        "\n",
        "def llenaMatriz(matriz):\n",
        "  nFilas, nColumnas = matriz.shape\n",
        "  for fila in range(nFilas):           ###for fila in range(len(matriz))\n",
        "    for columna in range(nColumnas):\n",
        "      matriz[fila,columna] = fila + columna\n",
        "\n",
        "m = np.zeros((8,4), int)\n",
        "print(m)\n",
        "llenaMatriz(m)\n",
        "print(m)"
      ],
      "execution_count": null,
      "outputs": [
        {
          "output_type": "stream",
          "text": [
            "[[0 0 0 0]\n",
            " [0 0 0 0]\n",
            " [0 0 0 0]\n",
            " [0 0 0 0]\n",
            " [0 0 0 0]\n",
            " [0 0 0 0]\n",
            " [0 0 0 0]\n",
            " [0 0 0 0]]\n",
            "[[ 0  1  2  3]\n",
            " [ 1  2  3  4]\n",
            " [ 2  3  4  5]\n",
            " [ 3  4  5  6]\n",
            " [ 4  5  6  7]\n",
            " [ 5  6  7  8]\n",
            " [ 6  7  8  9]\n",
            " [ 7  8  9 10]]\n"
          ],
          "name": "stdout"
        }
      ]
    },
    {
      "cell_type": "markdown",
      "metadata": {
        "id": "g96hWdmiaUmA"
      },
      "source": [
        "### **Ejercicio 9**\n",
        "\n",
        "Desarrollar una función que recibe una matriz cuadrada de números reales (N x N) por parámetro y calcula la suma de los elementos que están por encima de la diagonal principal (excluyendo la diagonal).\n",
        "\n",
        "En el ejemplo de la imagen, la función deberia retornar: *b + c + f*\n",
        "\n",
        "![texto alternativo](https://economipedia.com/wp-content/uploads/Captura-de-Pantalla-2019-07-29-a-les-13.18.05-1.png)"
      ]
    },
    {
      "cell_type": "code",
      "metadata": {
        "id": "F7UJsyFgbxkf",
        "colab": {
          "base_uri": "https://localhost:8080/"
        },
        "outputId": "58314676-9c13-4789-a0df-0ee41c7a88e8"
      },
      "source": [
        "import random as rdm\n",
        "\n",
        "def asignarValoresAleatorios(matriz):\n",
        "  for j in range(len(matriz)):\n",
        "    for k in range(len(matriz[j])):\n",
        "      h = rdm.randint(0,9)\n",
        "      matriz[j][k] = h\n",
        "\n",
        "m = np.zeros((4,4),int)\n",
        "asignarValoresAleatorios(m)\n",
        "\n",
        "\n",
        "## 62 38 51 26   fila 0 -> 1:final\n",
        "## 68  9 75 40   fila 1 -> 2:final\n",
        "## 63 12 69 24   fila 2 -> 3:final\n",
        "## 74  3 64 10\n",
        "\n",
        "print(m) \n",
        "def sumaSobreDiagonal(matriz):\n",
        "  nFilas, nColumnas = matriz.shape\n",
        "  suma = 0\n",
        "  for fila in range(nFilas-1):\n",
        "    for columna in range(fila+1,nColumnas):\n",
        "      print(\"pos:\",fila,\",\",columna)\n",
        "      print(matriz[fila, columna])\n",
        "      suma += matriz[fila, columna]\n",
        "  return suma\n",
        "\n",
        "print(sumaSobreDiagonal(m))"
      ],
      "execution_count": null,
      "outputs": [
        {
          "output_type": "stream",
          "text": [
            "[[6 1 6 2]\n",
            " [2 0 4 9]\n",
            " [7 4 2 3]\n",
            " [8 0 6 5]]\n",
            "pos: 0 , 1\n",
            "1\n",
            "pos: 0 , 2\n",
            "6\n",
            "pos: 0 , 3\n",
            "2\n",
            "pos: 1 , 2\n",
            "4\n",
            "pos: 1 , 3\n",
            "9\n",
            "pos: 2 , 3\n",
            "3\n",
            "25\n"
          ],
          "name": "stdout"
        }
      ]
    },
    {
      "cell_type": "markdown",
      "metadata": {
        "id": "ERqaprbtbx5F"
      },
      "source": [
        "### **Ejercicio 10**\n",
        "\n",
        "Escribir una función que retorna *True* si una matriz cuadrada de enteros es matriz diagonal y *False* en caso contrario.\n",
        "\n",
        "Una matriz diagonal es una matriz que tiene ceros en todos sus elementos, menos en la diagonal principal."
      ]
    },
    {
      "cell_type": "code",
      "metadata": {
        "id": "ehZJVkc_cWIg"
      },
      "source": [
        ""
      ],
      "execution_count": null,
      "outputs": []
    },
    {
      "cell_type": "markdown",
      "metadata": {
        "id": "dHytTlIXcW5P"
      },
      "source": [
        "### **Ejercicio 11**\n",
        "\n",
        "Escribir una función que retorna *True* si una matriz cuadrada de enteros es simétrica y *False* en caso contrario.\n",
        "\n",
        "Una matriz simétrica es como la de la imagen (no importan los elementos de la diagonal principal):\n",
        "\n",
        "![texto alternativo](https://economipedia.com/wp-content/uploads/Captura-de-Pantalla-2019-09-23-a-les-15.58.25.png) "
      ]
    },
    {
      "cell_type": "code",
      "metadata": {
        "id": "3SA7bN6ldIwQ"
      },
      "source": [
        ""
      ],
      "execution_count": null,
      "outputs": []
    },
    {
      "cell_type": "markdown",
      "metadata": {
        "id": "190cxAcRdJfY"
      },
      "source": [
        "### **Ejercicio 12**\n",
        "\n",
        "Escribir una función recursiva, que calcule la suma de los elementos de la diagonal principal de una matriz.\n",
        "\n",
        "Nota: La suma de los elementos de la diagonal principal de una matriz se llama \"traza de la matriz\"."
      ]
    },
    {
      "cell_type": "code",
      "metadata": {
        "id": "jSNCfDr_eEgH"
      },
      "source": [
        "### 1 2 5\n",
        "### 3 6 1\n",
        "### 5 6 8\n",
        "\n",
        "## 1 + sum 6 1\n",
        "##         6 8  \n",
        "## Caso base = Matriz de 1x1\n",
        "\n",
        "# m[1:,1:]"
      ],
      "execution_count": null,
      "outputs": []
    },
    {
      "cell_type": "markdown",
      "metadata": {
        "id": "Hiby3e3U2GaE"
      },
      "source": [
        "### **Comentario**\n",
        "\n",
        "En los ejercicios que usan cadenas de caracteres, pueden usar el tipo *str*, salvo que necesiten modificar elementos de la cadena luego de crearla, en ese caso, tienen que usar arreglos de caracteres."
      ]
    },
    {
      "cell_type": "markdown",
      "metadata": {
        "id": "J5x_ui9jeE2c"
      },
      "source": [
        "### **Ejercicio 13**\n",
        "\n",
        "Escribir 3 procedimientos que reciben una cadena de caracteres y..:\n",
        "- Imprima los dos primeros caracteres.\n",
        "- Imprima los tres últimos caracteres.\n",
        "- Imprima la cadena cada dos caracteres. Por ej.: 'recta' debería imprimir 'rca'"
      ]
    },
    {
      "cell_type": "code",
      "metadata": {
        "id": "9jAdPSY5egwF",
        "colab": {
          "base_uri": "https://localhost:8080/"
        },
        "outputId": "5550944a-86b3-4b06-a81e-c841b3f97cf6"
      },
      "source": [
        "cadena = \"carrera\"\n",
        "\n",
        "for pos in range(len(cadena)):\n",
        "  print(cadena[pos])"
      ],
      "execution_count": null,
      "outputs": [
        {
          "output_type": "stream",
          "text": [
            "c\n",
            "a\n",
            "r\n",
            "r\n",
            "e\n",
            "r\n",
            "a\n"
          ],
          "name": "stdout"
        }
      ]
    },
    {
      "cell_type": "markdown",
      "metadata": {
        "id": "tw7Pv4o_ehEv"
      },
      "source": [
        "### **Ejercicio 14**\n",
        "\n",
        "Desarrollar una función recursiva que retorna *True* si una cadena de caracteres es un palíndromo y *False* en caso contrario.\n",
        "\n",
        "Nota: Palíndromo es la forma elegante de \"capicua\""
      ]
    },
    {
      "cell_type": "code",
      "metadata": {
        "id": "vtXpa6hvf5gP",
        "colab": {
          "base_uri": "https://localhost:8080/"
        },
        "outputId": "945483d3-3a8e-4217-b859-cd13d9ec5ac1"
      },
      "source": [
        "## palabra = neuquen\n",
        "## comparo primer letra con ultima y llamado recursivo con el resto\n",
        "\n",
        "def esPalindromo(palabra):\n",
        "  resultado = True\n",
        "  if len(palabra) <= 3:\n",
        "    resultado = palabra[0] == palabra[len(palabra)-1]\n",
        "  else:\n",
        "    resultado = (palabra[0] == palabra[len(palabra)-1]) and esPalindromo(palabra[1:len(palabra)-1])\n",
        "  return resultado\n",
        "\n",
        "esPalindromo(\"neuqwequen\")"
      ],
      "execution_count": null,
      "outputs": [
        {
          "output_type": "execute_result",
          "data": {
            "text/plain": [
              "False"
            ]
          },
          "metadata": {
            "tags": []
          },
          "execution_count": 12
        }
      ]
    },
    {
      "cell_type": "markdown",
      "metadata": {
        "id": "2iWbsrQNnofI"
      },
      "source": [
        "### **Ejercicio 15**\n",
        "\n",
        "Escribir una función que recibe una cadena de caracteres y un caracter y retorna una nueva cadena que tiene el caracter entre cada letra de la cadena de entrada. \n",
        "\n",
        "Por ej si la cadena es: ' separar ' y el caracter es: ' , ', debería retornar ' s,e,p,a,r,a,r '"
      ]
    },
    {
      "cell_type": "code",
      "metadata": {
        "id": "9aEXl8tzq1Di"
      },
      "source": [
        ""
      ],
      "execution_count": null,
      "outputs": []
    },
    {
      "cell_type": "markdown",
      "metadata": {
        "id": "vTxxGJvjx4ul"
      },
      "source": [
        "### **Ejercicio 16**\n",
        "\n",
        "Escribir una función que recibe un arreglo variables de tipo \"Tiempo\" (TDA del ejercicio 4 del TP de TDA) y retorna un nuevo arreglo solo con los tiempos que son mayores a una hora (1:00:00).\n",
        "\n",
        "Escribir un programa para probar a la función.\n",
        "\n",
        "Nota: Van a tener que copiar el TDA \"Tiempo\" en el bloque de código de abajo y para que un *print* de un vector de variables de tipo \"Tiempo\" funcione, tienen que programar la operacion \"\\_\\_repr__()\" en el TDA \"Tiempo\". Pueden hacer a la operación \"\\_\\_repr__()\" igual a \"\\_\\_str__()\", porque *repr* es una generalización de *str*."
      ]
    },
    {
      "cell_type": "code",
      "metadata": {
        "id": "TtxqYIhRx5VY",
        "colab": {
          "base_uri": "https://localhost:8080/"
        },
        "outputId": "5472635f-4c97-46f9-f17f-8ab9de31b532"
      },
      "source": [
        "class Tiempo:\n",
        "  def __init__(self, h, m, s):\n",
        "    self.horas = h\n",
        "    self.minutos = m\n",
        "    self.segundos = s\n",
        "\n",
        "  def __repr__(self):\n",
        "    return str(self.horas)+\":\"+str(self.minutos)+\":\"+str(self.segundos)\n",
        "\n",
        "v = np.zeros(10,Tiempo)\n",
        "v[0] = Tiempo(2,34,45)\n",
        "v[2] = Tiempo(20,3,21)\n",
        "\n",
        "print(v)"
      ],
      "execution_count": null,
      "outputs": [
        {
          "output_type": "stream",
          "text": [
            "[2:34:45 0 20:3:21 0 0 0 0 0 0 0]\n"
          ],
          "name": "stdout"
        }
      ]
    },
    {
      "cell_type": "markdown",
      "metadata": {
        "id": "tnlvo6O4q1lG"
      },
      "source": [
        "### **Ejercicio 17**\n",
        "\n",
        "Una de las aplicaciones de matrices en programación es la representación y procesamiento de imágenes. Vamos a ver algunas cosas que se pueden hacer. Para esto primero tenemos que cargarnos una imagen en el colab y generar una matriz a partir de ella.\n",
        "\n",
        "- Descarguen el archivo \"felix.csv\" del siguiente link:\n",
        "https://drive.google.com/file/d/19CkOd04p6zw9qoKrF88TR2j-UFZnV9Uh/view?usp=sharing\n",
        "- Suban el archivo \"felix.csv\" al \"colab\" para poder cargarlo con el programa de Python de abajo (haciendo click en el icono de la carpeta ![texto alternativo](https://i.ibb.co/jzqwMsc/carpeta.png), de arriba a la izquierda y luego en \"Subir\")\n",
        "- Completen el programa, procesando a la imagen guardada en la matriz \"felix\" para obtener las imágenes de la siguiente figura (La \"A\" es la imagen original), pueden hacer funciones que generen cada transformación en la imagen: \n",
        "\n",
        "![texto alternativo](https://i.ibb.co/BcW3mwF/felix-results.png)"
      ]
    },
    {
      "cell_type": "code",
      "metadata": {
        "id": "5RXi-2ZbrXkZ",
        "colab": {
          "base_uri": "https://localhost:8080/",
          "height": 606
        },
        "outputId": "9b58a08f-a480-4028-aca1-a5e7e1a5dc32"
      },
      "source": [
        "import numpy as np\n",
        "import matplotlib.pyplot as plt\n",
        "\n",
        "###Lectura del archivo en la matriz#####\n",
        "felix = np.genfromtxt('felix.csv', delimiter=',')\n",
        "########################################\n",
        "\n",
        "######Para mostrar matriz como imagen###########\n",
        "plt.imshow(felix)\n",
        "plt.show()\n",
        "########################################\n",
        "\n",
        "print(felix[0:4,0:4])\n",
        "\n",
        "######Completar procesamiento en matriz felix para obtener imagenes################\n",
        "print(felix.shape)\n",
        "\n",
        "###Figura B\n",
        "def matrizTraspuesta(matriz):\n",
        "  nFilas,nColumnas = felix.shape\n",
        "  traspuesta = np.zeros((nColumnas,nFilas),int)\n",
        "  for f in range(nFilas):\n",
        "    traspuesta[:,f] = matriz[f,:]\n",
        "  return traspuesta\n",
        "\n",
        "def matrizTraspuesta2(matriz):\n",
        "  nFilas,nColumnas = felix.shape\n",
        "  traspuesta = np.zeros((nColumnas,nFilas),int)\n",
        "  for f in range(nFilas):\n",
        "    for c in range(nColumnas):\n",
        "      traspuesta[c,f] = matriz[f,c]\n",
        "  return traspuesta\n",
        " \n",
        "figuraB = matrizTraspuesta(felix)\n",
        "plt.imshow(figuraB)\n",
        "plt.show()\n",
        "\n",
        "\n"
      ],
      "execution_count": null,
      "outputs": [
        {
          "output_type": "display_data",
          "data": {
            "image/png": "[encoded data removed]",
            "text/plain": [
              "<Figure size 432x288 with 1 Axes>"
            ]
          },
          "metadata": {
            "tags": [],
            "needs_background": "light"
          }
        },
        {
          "output_type": "stream",
          "text": [
            "[[1. 1. 1. 1.]\n",
            " [1. 1. 1. 1.]\n",
            " [1. 1. 1. 1.]\n",
            " [1. 1. 1. 1.]]\n",
            "(280, 280)\n"
          ],
          "name": "stdout"
        },
        {
          "output_type": "display_data",
          "data": {
            "image/png": "[encoded data removed]",
            "text/plain": [
              "<Figure size 432x288 with 1 Axes>"
            ]
          },
          "metadata": {
            "tags": [],
            "needs_background": "light"
          }
        }
      ]
    }
  ]
}