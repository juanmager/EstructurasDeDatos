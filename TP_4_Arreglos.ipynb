{
  "nbformat": 4,
  "nbformat_minor": 0,
  "metadata": {
    "colab": {
      "name": "Copy of Arreglos_en_Python.ipynb",
      "provenance": [],
      "collapsed_sections": [],
      "include_colab_link": true
    },
    "kernelspec": {
      "name": "python3",
      "display_name": "Python 3"
    }
  },
  "cells": [
    {
      "cell_type": "markdown",
      "metadata": {
        "id": "view-in-github",
        "colab_type": "text"
      },
      "source": [
        "<a href=\"https://colab.research.google.com/github/juanmager/EstructurasDeDatos/blob/master/TP_4_Arreglos.ipynb\" target=\"_parent\"><img src=\"https://colab.research.google.com/assets/colab-badge.svg\" alt=\"Open In Colab\"/></a>"
      ]
    },
    {
      "cell_type": "markdown",
      "metadata": {
        "id": "q1NQsZkeLlE3"
      },
      "source": [
        "### Declaración de vectores y matrices"
      ]
    },
    {
      "cell_type": "code",
      "metadata": {
        "id": "UI3odjjtM_HU",
        "colab": {
          "base_uri": "https://localhost:8080/"
        },
        "outputId": "6fe9389a-18e9-44fc-8ba5-b7c07891be83"
      },
      "source": [
        "import numpy as np\n",
        "\n",
        "vector = np.zeros(10,int)\n",
        "\n",
        "print(\"Vector\")\n",
        "print(vector)\n",
        "\n",
        "matriz = np.zeros((3,4),int)\n",
        "\n",
        "print(\"\\nMatriz\")\n",
        "print(matriz)"
      ],
      "execution_count": null,
      "outputs": [
        {
          "output_type": "stream",
          "text": [
            "Vector\n",
            "[0 0 0 0 0 0 0 0 0 0]\n",
            "\n",
            "Matriz\n",
            "[[0 0 0 0]\n",
            " [0 0 0 0]\n",
            " [0 0 0 0]]\n"
          ],
          "name": "stdout"
        }
      ]
    },
    {
      "cell_type": "markdown",
      "metadata": {
        "id": "noBX3Or3M2XW"
      },
      "source": [
        "### Acceso con índices / posiciones"
      ]
    },
    {
      "cell_type": "code",
      "metadata": {
        "id": "k-5kIpr1LdjZ",
        "colab": {
          "base_uri": "https://localhost:8080/"
        },
        "outputId": "6cee900f-625e-4286-f9ab-5e94d46ee090"
      },
      "source": [
        "import numpy as np\n",
        "\n",
        "################Unidimensionales##################\n",
        "print(\"################Unidimensionales##################\")\n",
        "\n",
        "vector = np.zeros((10),int)\n",
        "\n",
        "print(\"Vector de ceros\")\n",
        "print(vector)\n",
        "\n",
        "vector[0] = 20\n",
        "vector[5] = 10\n",
        "#vector[10] = 50\n",
        "\n",
        "print(\"Vector con modificaciones\")\n",
        "print(vector)\n",
        "print(vector[2:6])\n",
        "\n",
        "################Bidimensionales##################\n",
        "print(\"\\n################Bidimensionales##################\")\n",
        "\n",
        "matriz = np.zeros((3,4),int)\n",
        "\n",
        "print(\"Matriz de ceros\")\n",
        "print(matriz)\n",
        "\n",
        "matriz[0,0] = 20\n",
        "matriz[0][2] = 10\n",
        "matriz[1][3] = 50\n",
        "\n",
        "print(\"Matriz con modificaciones\")\n",
        "print(matriz)\n",
        "print(\"Primer Fila (matriz[0])\")\n",
        "print(matriz[0])\n",
        "print(\"Segunda Fila (matriz[1])\")\n",
        "print(matriz[1])\n",
        "print(\"Elemento fila 1 columna 3\")\n",
        "print(matriz[1,3])\n",
        "\n",
        "print(matriz[1:,2:])"
      ],
      "execution_count": null,
      "outputs": [
        {
          "output_type": "stream",
          "text": [
            "################Unidimensionales##################\n",
            "Vector de ceros\n",
            "[0 0 0 0 0 0 0 0 0 0]\n",
            "Vector con modificaciones\n",
            "[20  0  0  0  0 10  0  0  0  0]\n",
            "[ 0  0  0 10]\n",
            "\n",
            "################Bidimensionales##################\n",
            "Matriz de ceros\n",
            "[[0 0 0 0]\n",
            " [0 0 0 0]\n",
            " [0 0 0 0]]\n",
            "Matriz con modificaciones\n",
            "[[20  0 10  0]\n",
            " [ 0  0  0 50]\n",
            " [ 0  0  0  0]]\n",
            "Primer Fila (matriz[0])\n",
            "[20  0 10  0]\n",
            "Segunda Fila (matriz[1])\n",
            "[ 0  0  0 50]\n",
            "Elemento fila 1 columna 3\n",
            "50\n",
            "[[ 0 50]\n",
            " [ 0  0]]\n"
          ],
          "name": "stdout"
        }
      ]
    },
    {
      "cell_type": "markdown",
      "metadata": {
        "id": "VRnqtMJMOUh0"
      },
      "source": [
        "### Medición de dimensiones"
      ]
    },
    {
      "cell_type": "code",
      "metadata": {
        "id": "p-nQnVUMORwM",
        "colab": {
          "base_uri": "https://localhost:8080/",
          "height": 340
        },
        "outputId": "5c027945-1887-4619-afab-d97a64b77cf3"
      },
      "source": [
        "import numpy as np\n",
        "\n",
        "################Unidimensionales##################\n",
        "print(\"################Unidimensionales##################\")\n",
        "vector = np.zeros((10),int)\n",
        "\n",
        "print(\"Vector de ceros\")\n",
        "print(vector)\n",
        "print(\"Longitud de vector (cantidad de elementos)\")\n",
        "print(len(vector))\n",
        "\n",
        "################Bidimensionales##################\n",
        "print(\"\\n################Bidimensionales##################\")\n",
        "matriz = np.zeros((3,4),int)\n",
        "\n",
        "print(\"Matriz de ceros\")\n",
        "print(matriz)\n",
        "\n",
        "print(\"Cantidad de filas (len(matriz))\")\n",
        "print(len(matriz))\n",
        "print(\"Cantidad de columnas (len(matriz[0]))\")\n",
        "print(len(matriz[0]))\n",
        "print(\"Dimensión de matriz\")\n",
        "print(matriz.shape)\n",
        "filas,columnas=matriz.shape\n",
        "\n",
        "print(filas)\n",
        "print(columnas)\n",
        "\n"
      ],
      "execution_count": null,
      "outputs": [
        {
          "output_type": "stream",
          "text": [
            "################Unidimensionales##################\n",
            "Vector de ceros\n",
            "[0 0 0 0 0 0 0 0 0 0]\n",
            "Longitud de vector (cantidad de elementos)\n",
            "10\n",
            "\n",
            "################Bidimensionales##################\n",
            "Matriz de ceros\n",
            "[[0 0 0 0]\n",
            " [0 0 0 0]\n",
            " [0 0 0 0]]\n",
            "Cantidad de filas (len(matriz))\n",
            "3\n",
            "Cantidad de columnas (len(matriz[0]))\n",
            "4\n",
            "Dimensión de matriz\n",
            "(3, 4)\n",
            "3\n",
            "4\n"
          ],
          "name": "stdout"
        }
      ]
    },
    {
      "cell_type": "markdown",
      "metadata": {
        "id": "JeW7lNExRhnm"
      },
      "source": [
        "### Recorridos de vectores"
      ]
    },
    {
      "cell_type": "code",
      "metadata": {
        "id": "SFi9VAnyRsDI",
        "colab": {
          "base_uri": "https://localhost:8080/"
        },
        "outputId": "981da775-8f17-4893-ff7a-184e760d2f36"
      },
      "source": [
        "import numpy as np\n",
        "\n",
        "vector = np.array([3,5,1,8,14])\n",
        "\n",
        "print(vector)\n",
        "print(\"Recorrido sobre elementos directamente (sentido directo)\")\n",
        "for elemento in vector:\n",
        "  print(elemento)\n",
        "\n",
        "print(\"\\n\",vector)\n",
        "print(\"Recorrido sobre elementos directamente (sentido inverso)\")\n",
        "for elemento in reversed(vector):\n",
        "  print(elemento)\n",
        "\n",
        "print(\"\\n\",vector)\n",
        "print(\"Recorrido usando indices / posiciones (sentido directo)\")\n",
        "for posicion in range(len(vector)):\n",
        "  print(\"Posición:\",posicion)\n",
        "  print(vector[posicion])\n",
        "\n",
        "print(\"\\n\",vector)\n",
        "print(\"Recorrido usando indices / posiciones (sentido inverso)\")\n",
        "for posicion in reversed(range(len(vector))):\n",
        "  print(\"Posición:\",posicion)\n",
        "  print(vector[posicion])\n",
        "\n",
        "\n"
      ],
      "execution_count": null,
      "outputs": [
        {
          "output_type": "stream",
          "text": [
            "\n",
            " [ 3  5  1  8 14]\n",
            "Recorrido usando indices / posiciones (sentido inverso)\n",
            "Posición: 4\n",
            "14\n",
            "Posición: 3\n",
            "8\n",
            "Posición: 2\n",
            "1\n",
            "Posición: 1\n",
            "5\n",
            "Posición: 0\n",
            "3\n"
          ],
          "name": "stdout"
        }
      ]
    },
    {
      "cell_type": "markdown",
      "metadata": {
        "id": "rWMVp0uqTQ9z"
      },
      "source": [
        "### Recorridos de matrices"
      ]
    },
    {
      "cell_type": "code",
      "metadata": {
        "id": "WMEkNPGhTVwI",
        "colab": {
          "base_uri": "https://localhost:8080/"
        },
        "outputId": "a29c5aec-6b4b-4b0a-8709-372c2fffd8e0"
      },
      "source": [
        "import numpy as np\n",
        "\n",
        "matriz = np.array([[3,5,1],[2,8,14],[12,3,9],[23,4,0]])\n",
        "\n",
        "print(matriz)\n",
        "print(\"\\nRecorrido sobre elementos directamente (sentido directo)\")\n",
        "for fila in matriz:\n",
        "  for elemento in fila:\n",
        "    print(elemento)\n",
        "\n",
        "print(\"\\n\",matriz)\n",
        "print(\"Recorrido sobre elementos directamente (sentido inverso)\")\n",
        "for fila in reversed(matriz):\n",
        "  for elemento in reversed(fila):\n",
        "    print(elemento)\n",
        "\n",
        "print(\"\\n\",matriz)\n",
        "print(\"Recorrido usando indices / posiciones (sentido directo)\")\n",
        "nFilas,nColumnas = matriz.shape\n",
        "for posicionFila in range(nFilas):\n",
        "  for posicionColumna in range(nColumnas):\n",
        "    print(\"Posición:\",posicionFila,\",\",posicionColumna)\n",
        "    print(matriz[posicionFila , posicionColumna])\n",
        "\n",
        "print(\"\\n\",matriz)\n",
        "print(\"Recorrido usando indices / posiciones (sentido inverso)\")\n",
        "for posicionFila in reversed(range(len(matriz))):\n",
        "  for posicionColumna in reversed(range(len(matriz[posicionFila]))):\n",
        "    print(\"Posición:\",posicionFila,\",\",posicionColumna)\n",
        "    print(matriz[posicionFila][posicionColumna])\n",
        "\n",
        "\n"
      ],
      "execution_count": null,
      "outputs": [
        {
          "output_type": "stream",
          "text": [
            "\n",
            " [[20  0 10  0]\n",
            " [ 0  0  0 50]\n",
            " [ 0  0  0  0]]\n",
            "Recorrido usando indices / posiciones (sentido inverso)\n",
            "Posición: 2 , 3\n",
            "0\n",
            "Posición: 2 , 2\n",
            "0\n",
            "Posición: 2 , 1\n",
            "0\n",
            "Posición: 2 , 0\n",
            "0\n",
            "Posición: 1 , 3\n",
            "50\n",
            "Posición: 1 , 2\n",
            "0\n",
            "Posición: 1 , 1\n",
            "0\n",
            "Posición: 1 , 0\n",
            "0\n",
            "Posición: 0 , 3\n",
            "0\n",
            "Posición: 0 , 2\n",
            "10\n",
            "Posición: 0 , 1\n",
            "0\n",
            "Posición: 0 , 0\n",
            "20\n"
          ],
          "name": "stdout"
        }
      ]
    },
    {
      "cell_type": "markdown",
      "metadata": {
        "id": "pkREt8NhGFXD"
      },
      "source": [
        "### Arreglos de caracteres y tipo *str*"
      ]
    },
    {
      "cell_type": "code",
      "metadata": {
        "id": "pAAEiw0jGLZG",
        "colab": {
          "base_uri": "https://localhost:8080/"
        },
        "outputId": "4fc40c3b-e472-4018-f934-916627251ce0"
      },
      "source": [
        "import numpy as np\n",
        "\n",
        "################Arreglos de caracteres##################\n",
        "print(\"################Arreglos de caracteres##################\")\n",
        "\n",
        "cadena = np.array(['h','o','l','a'])\n",
        "\n",
        "print(cadena)\n",
        "cadena[1] = 'f'\n",
        "print(cadena)\n",
        "\n",
        "################Tipo str##################\n",
        "print(\"\\n################Tipo str##################\")\n",
        "\n",
        "cadenaStr = \"hola\"\n",
        "\n",
        "print(cadenaStr)\n",
        "print(cadenaStr[0])\n",
        "\n",
        "cadenaStr[1] = 'f'"
      ],
      "execution_count": null,
      "outputs": [
        {
          "output_type": "stream",
          "text": [
            "<class 'tuple'>\n"
          ],
          "name": "stdout"
        }
      ]
    },
    {
      "cell_type": "markdown",
      "metadata": {
        "id": "pqZjxekMHajU"
      },
      "source": [
        "### Cosas a tener en cuenta"
      ]
    },
    {
      "cell_type": "code",
      "metadata": {
        "id": "E4HE5MwsHeOh",
        "colab": {
          "base_uri": "https://localhost:8080/",
          "height": 119
        },
        "outputId": "2913a08a-d8f3-44f5-e7e0-7d920630802b"
      },
      "source": [
        "import numpy as np\n",
        "\n",
        "vector1 = np.array([2,3,6,1])\n",
        "vector2 = vector1\n",
        "\n",
        "print(\"vector1 =\",vector1)\n",
        "print(\"vector2 =\",vector2)\n",
        "\n",
        "print(\"\\nModificamos solo a vector1\")\n",
        "\n",
        "vector1[1] = 200\n",
        "\n",
        "print(\"vector1 =\",vector1)\n",
        "print(\"vector2 =\",vector2)\n"
      ],
      "execution_count": null,
      "outputs": [
        {
          "output_type": "stream",
          "text": [
            "vector1 = [2 3 6 1]\n",
            "vector2 = [2 3 6 1]\n",
            "\n",
            "Modificamos solo a vector1\n",
            "vector1 = [  2 200   6   1]\n",
            "vector2 = [  2 200   6   1]\n"
          ],
          "name": "stdout"
        }
      ]
    },
    {
      "cell_type": "markdown",
      "metadata": {
        "id": "6ygOMfveWXwA"
      },
      "source": [
        "### Arreglos como parámetros de funciones / procedimientos"
      ]
    },
    {
      "cell_type": "code",
      "metadata": {
        "id": "xJbFfqesWehM",
        "colab": {
          "base_uri": "https://localhost:8080/"
        },
        "outputId": "acd3f394-06ad-4a3f-b748-28d3501b49ae"
      },
      "source": [
        "import numpy as np\n",
        "\n",
        "def funcionEjemplo(vector):\n",
        "  vector[1] = 20\n",
        "\n",
        "v = np.array([2,5,3,9])\n",
        "\n",
        "print(\"v =\",v)\n",
        "\n",
        "funcionEjemplo(v)\n",
        "\n",
        "print(\"\\nLuego de ejecutar funcionEjemplo\")\n",
        "print(\"v =\",v)"
      ],
      "execution_count": null,
      "outputs": [
        {
          "output_type": "stream",
          "text": [
            "v = [2 5 3 9]\n",
            "\n",
            "Luego de ejecutar funcionEjemplo\n",
            "v = [ 2 20  3  9]\n"
          ],
          "name": "stdout"
        }
      ]
    }
  ]
}