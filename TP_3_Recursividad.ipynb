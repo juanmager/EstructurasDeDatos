{
  "nbformat": 4,
  "nbformat_minor": 0,
  "metadata": {
    "colab": {
      "name": "Copy of Trabajo practico 3 - Recursividad.ipynb",
      "provenance": [],
      "include_colab_link": true
    },
    "kernelspec": {
      "name": "python3",
      "display_name": "Python 3"
    }
  },
  "cells": [
    {
      "cell_type": "markdown",
      "metadata": {
        "id": "view-in-github",
        "colab_type": "text"
      },
      "source": [
        "<a href=\"https://colab.research.google.com/github/juanmager/EstructurasDeDatos/blob/master/TP_3_Recursividad.ipynb\" target=\"_parent\"><img src=\"https://colab.research.google.com/assets/colab-badge.svg\" alt=\"Open In Colab\"/></a>"
      ]
    },
    {
      "cell_type": "markdown",
      "metadata": {
        "id": "42630xxYD0gZ"
      },
      "source": [
        "# ![alt text](https://upload.wikimedia.org/wikipedia/commons/thumb/c/c3/Python-logo-notext.svg/50px-Python-logo-notext.svg.png) **Trabajo Práctico 3: Recursividad** ![alt text](https://upload.wikimedia.org/wikipedia/commons/thumb/c/c3/Python-logo-notext.svg/50px-Python-logo-notext.svg.png)\n",
        "\n",
        "En este trabajo práctico, vamos a trabajar con el concepto de recursividad en Python. Recuerden crear una copia de este archivo en su ***Google Drive*** para tener permisos de edición.\n",
        "\n",
        "### Sergio: **sergio.gonzalez@unahur.edu.ar** ###\n",
        "### Ariel: **aclocchi@gmail.com** ###"
      ]
    },
    {
      "cell_type": "markdown",
      "metadata": {
        "id": "xjXgmD3mskbR"
      },
      "source": [
        "### **Ejercicio 1**\n",
        "\n",
        "Implementar una función que calcule el factorial de un número de forma recursiva"
      ]
    },
    {
      "cell_type": "code",
      "metadata": {
        "id": "gsZiWB45r1GN",
        "colab": {
          "base_uri": "https://localhost:8080/"
        },
        "outputId": "cb9072a7-99af-4684-cf65-68458fee8e2b"
      },
      "source": [
        "#F(5) = 5 * 4 * 3 * 2 * 1 = 5 * F(4)\n",
        "#F(4) = 4 * 3 * 2 * 1 = 4 * F(3)\n",
        "#F(3) = 3 * 2 * 1 = 3 * F(2)\n",
        "#F(2) = 2 * 1 = 2 * F(1)\n",
        "#F(1) = 1 = 1 * F(0)\n",
        "#F(0) = 1\n",
        "\n",
        "#F(N) = N * F(N-1)\n",
        "\n",
        "def factorial(numero):\n",
        "  if numero < 0:\n",
        "    raise Exception(\"Debe ser un numero positivo.\")\n",
        "  resultado = 0\n",
        "  if numero == 0:\n",
        "    resultado = 1\n",
        "  else:\n",
        "    resultado = numero * factorial(numero-1)\n",
        "  return resultado\n",
        "\n",
        "print(factorial(3))\n",
        "\n",
        "#factorial(3)\n",
        "#numero = 3 / resultado = 3 * factorial(2) = 3 * 2 = 6\n",
        "#factorial(2) \n",
        "#numero = 2 / resultado = 2 * factorial(1) = 2 * 1 = 2\n",
        "#factorial(1) \n",
        "#numero = 1 / resultado = 1 * factorial(0) = 1 * 1 = 1\n",
        "#factorial(0)\n",
        "#numero = 0 / resultado = 1\n",
        "\n",
        "def factorial(num):\n",
        "  if num < 0:\n",
        "    raise Exception(\"Numero invalido. Debe ser un entero positivo o 0\")\n",
        "  resultado = 1\n",
        "  if num > 0:\n",
        "    resultado = num * factorial(num-1)\n",
        "  print(num,resultado)\n",
        "  return resultado\n",
        "\n",
        "\n"
      ],
      "execution_count": null,
      "outputs": [
        {
          "output_type": "stream",
          "text": [
            "0 1\n",
            "1 1\n",
            "2 2\n",
            "3 6\n",
            "6\n"
          ],
          "name": "stdout"
        }
      ]
    },
    {
      "cell_type": "markdown",
      "metadata": {
        "id": "oQU_Yv1QuOXm"
      },
      "source": [
        "### **Ejercicio 2**\n",
        "\n",
        "Una canilla de una casa pierde agua de forma que todos los días pierde 2 gotas más que el día anterior. Escribir una función recursiva que calcule cuantas gotas perderá la canilla el día N. El primer día solo perdía dos gotas."
      ]
    },
    {
      "cell_type": "code",
      "metadata": {
        "id": "3QmA2qDGvs2d",
        "colab": {
          "base_uri": "https://localhost:8080/"
        },
        "outputId": "0aee29fa-5428-4623-abe7-a77413f5c026"
      },
      "source": [
        "#C(N) = 2 + C(N-1)\n",
        "#C(1) = 2\n",
        "\n",
        "#Funcion que recibe un numero de dia y retorna la cantidad de gotas que pierde la\n",
        "#canilla ese dia\n",
        "def gotasEnDia(dia):\n",
        "  cantGotas = 0\n",
        "  if dia == 1:\n",
        "    cantGotas = 2\n",
        "  else:\n",
        "    cantGotas = 2 + gotasEnDia(dia - 1)\n",
        "  return cantGotas\n",
        "\n",
        "print(gotasEnDia(10))"
      ],
      "execution_count": null,
      "outputs": [
        {
          "output_type": "stream",
          "text": [
            "20\n"
          ],
          "name": "stdout"
        }
      ]
    },
    {
      "cell_type": "markdown",
      "metadata": {
        "id": "mJwO1DVLJ5q2"
      },
      "source": [
        "### **Ejercicio 3**\n",
        "\n",
        "Implementar una función recursiva que calcule los números de la serie de Fibonacci. La función para generar la serie de Fibonacci es la siguiente (donde N es el índice del número en la serie):\n",
        "\n",
        "![alt text](https://matematicasmodernas.com/wp-content/uploads/2014/03/EcuacionF.jpg)\n",
        "\n",
        "Luego escribir un programa que pida un número N (mayor o igual a 0) al usuario e imprima por pantalla los primeros N números de la serie de Fibonacci\n",
        "\n",
        "Sobre la sucesion de Fibonacci: https://www.vix.com/es/btg/curiosidades/4461/que-es-la-sucesion-de-fibonacci\n",
        "\n",
        "\n"
      ]
    },
    {
      "cell_type": "code",
      "metadata": {
        "id": "Hg30Eej9pP3Q"
      },
      "source": [
        ""
      ],
      "execution_count": null,
      "outputs": []
    },
    {
      "cell_type": "markdown",
      "metadata": {
        "id": "5LOgT_WupRbE"
      },
      "source": [
        "### **Ejercicio 4**\n",
        "\n",
        "Escribir una función recursiva que calcule el número triangular de índice N. El número triangular de índice N es la suma de todos los números desde 1 hasta N.\n",
        "\n",
        "Algunos ejemplos:\n",
        "\n",
        "*T(1) = 1*\n",
        "\n",
        "*T(2) = 1 + 2*\n",
        "\n",
        "*T(3) = 1 + 2 + 3*\n",
        "\n",
        "*T(4) = 1 + 2 + 3 + 4*\n",
        "\n",
        "*T(5) = 1 + 2 + 3 + 4 + 5*\n",
        "\n",
        "...\n",
        "\n",
        "*T(N) = 1 + 2 + 3 + 4 + ... + N*"
      ]
    },
    {
      "cell_type": "code",
      "metadata": {
        "id": "553FmJ6pqii-"
      },
      "source": [
        ""
      ],
      "execution_count": null,
      "outputs": []
    },
    {
      "cell_type": "markdown",
      "metadata": {
        "id": "7JAbyL8nqjZW"
      },
      "source": [
        "### **Ejercicio 5**\n",
        "\n",
        "En las redes sociales se produce una continua interacción y cada vez que un usuario realiza una acción, la comunidad se modifica. Suponiendo que un *influencer* que usa ***Instagram*** cada vez que postea algo, aumenta su cantidad de seguidores según la siguiente regla:\n",
        "- Durante los primeros 20 posteos, siempre suma una cantidad fija de 1000 (mil) seguidores en cada uno.\n",
        "- A partir del posteo 21, la cantidad de seguidores duplica la cantidad previa de seguidores, mas  500 seguidores extra.\n",
        "\n",
        "Implementar una función recursiva que permita saber cuantos seguidores tendra el *Instagramer* luego de una cantidad determinada de posteos. "
      ]
    },
    {
      "cell_type": "code",
      "metadata": {
        "id": "5SdJZdQorUIb"
      },
      "source": [
        ""
      ],
      "execution_count": null,
      "outputs": []
    },
    {
      "cell_type": "markdown",
      "metadata": {
        "id": "-u_y1o2XrUpw"
      },
      "source": [
        "### **Ejercicio 6**\n",
        "\n",
        "Un equipo de albañiles de una obra, tiene que planificar la colocación de pisos. Dicha tarea se realiza teniendo algunas consideraciones específicas, que tienen que ver con el corte de las baldosas, con el material de pegado y la cantidad de trabajadores que hay en cada momento. En el arranque, el día uno (1), los albañiles colocan siempre 100 baldosas.\n",
        "Luego, la cantidad que se coloca cada día se organiza de esta manera:\n",
        "- Los días pares se colocan el doble de baldosas del día anterior.\n",
        "- Los días impares (salvo el primer día) se coloca una cantidad igual a la suma de las que se colocaron los 2 dias anteriores.\n",
        "\n",
        "Implementar una función que permita saber la cantidad de baldosas que se colocan en total luego de transcurrida una determinada cantidad de días."
      ]
    },
    {
      "cell_type": "code",
      "metadata": {
        "id": "1Vek6PTrse-p"
      },
      "source": [
        ""
      ],
      "execution_count": null,
      "outputs": []
    },
    {
      "cell_type": "markdown",
      "metadata": {
        "id": "EVmZea0Cselk"
      },
      "source": [
        "### **Ejercicio 7**\n",
        "\n",
        "Luego de una lluvia muy grande se acumula gran cantidad de agua en un estanque, durante el primer día, el agua comienza a ponerse de color verde y un grupo de científicos decide medir cuantas algas encuentra dentro del tanque. La primer medición le da como resultado 12 algas. Luego deciden ir a realizar la medición todos los días para tratar de establecer un patrón de crecimiento y se encuentran que las algas crecen con la siguiente regla:\n",
        "- Durante los siguientes 10 días (del dia 2 al 11) la cantidad de algas se incrementa en una cantidad fija de 15 algas por día.\n",
        "- A partir del día 12, la cantidad de algas triplica a la cantidad del día previo mas una cantidad fija de 100.\n",
        "\n",
        "Escriba una función recursiva que calcule la cantidad de algas en el tanque luego de una cantidad determinada de días.   \n"
      ]
    },
    {
      "cell_type": "code",
      "metadata": {
        "id": "30rAj4BTtQMo"
      },
      "source": [
        ""
      ],
      "execution_count": null,
      "outputs": []
    },
    {
      "cell_type": "markdown",
      "metadata": {
        "id": "ahvaeTRS0Gm7"
      },
      "source": [
        "### **Ejercicio 8**\n",
        "\n",
        "Escribir una función recursiva que calcule la potencia N de un número M (M a la N), ambos números enteros positivos.   "
      ]
    },
    {
      "cell_type": "code",
      "metadata": {
        "id": "w9R8zTz_0Pku"
      },
      "source": [
        ""
      ],
      "execution_count": null,
      "outputs": []
    },
    {
      "cell_type": "markdown",
      "metadata": {
        "id": "1ahXjm9z0QND"
      },
      "source": [
        "### **Ejercicio 9**\n",
        "\n",
        "Problema del trigo en el tablero de ajedrez:\n",
        "\n",
        "![alt text](https://i0.wp.com/matematicascercanas.com/wp-content/uploads/2015/03/leyenda_ajedrez.jpg?w=600&ssl=1)\n",
        "\n",
        "Si se colocase sobre un tablero de ajedrez, un grano de trigo en el primer casillero, dos en el segundo, cuarto en el tercero y asi sucesivamente, doblando la cantidad de granos en cada casilla ¿Cuantos granos de trigo habría en el tablero en total al final? Resolver el problema con una función recursiva.\n",
        "\n",
        "Leyenda del Trigo y el tablero de ajedrez y mas datos: https://matematicascercanas.com/2014/03/10/la-leyenda-del-tablero-de-ajedrez-y-los-granos-de-trigo/"
      ]
    },
    {
      "cell_type": "code",
      "metadata": {
        "id": "WLUBQcfx1hGE",
        "colab": {
          "base_uri": "https://localhost:8080/"
        },
        "outputId": "5e05fb0b-b45c-4226-ba2b-440642171213"
      },
      "source": [
        "#GC(N) = 2 * GC(N-1)\n",
        "#GC(1) = 1\n",
        "\n",
        "#Retorna la cantidad de granos en un casillero determinado (nCasillero)\n",
        "def granosPorCasillero(nCasillero):\n",
        "  cantGranos = 0\n",
        "  if nCasillero == 1:\n",
        "    cantGranos = 1\n",
        "  else:\n",
        "    cantGranos = 2 * granosPorCasillero(nCasillero - 1)\n",
        "  return cantGranos\n",
        "\n",
        "#GT(N) = GC(N) + GT(N-1)\n",
        "#GT(1) = 1\n",
        "\n",
        "#Retorna la cantidad de granos en total en un tablero de Ncasilleros\n",
        "def granosEnTablero(Ncasilleros):\n",
        "  cantTotalGranos = 0\n",
        "  if Ncasilleros == 1:\n",
        "    cantTotalGranos = 1\n",
        "  else:\n",
        "    cantTotalGranos = granosPorCasillero(Ncasillero) + granosEnTablero(Ncasillero - 1)\n",
        "  return cantTotalGranos\n"
      ],
      "execution_count": null,
      "outputs": [
        {
          "output_type": "stream",
          "text": [
            "4\n"
          ],
          "name": "stdout"
        }
      ]
    },
    {
      "cell_type": "markdown",
      "metadata": {
        "id": "UcGyejNf1hYo"
      },
      "source": [
        "### **Ejercicio 10**\n",
        "\n",
        "En un edificio alto, las cucarachas se van distribuyendo por pisos de esta forma: \n",
        "- En el primer piso hay una cucaracha\n",
        "- En los pisos pares el doble del número de piso (por ejemplo en el piso 8 hay 16 cucarachas)\n",
        "- El resto de los pisos tienen la suma de las cucarachas de los dos pisos anteriores.\n",
        "\n",
        "Escribir una función recursiva que calcule la cantidad de cucarachas en un edificio en función de la cantidad de pisos."
      ]
    },
    {
      "cell_type": "code",
      "metadata": {
        "id": "l_oaoB0S2_Fa"
      },
      "source": [
        "#CP(N) = 2 * N  si N es par\n",
        "#CP(N) = CP(N-1) + CP(N-2) si es impar\n",
        "#CP(1) = 1\n",
        "\n",
        "#Calcula cantidad de cucas en un piso determinado\n",
        "def cucasEnPiso(nPiso):\n",
        "  cantCucas = 0\n",
        "  if nPiso == 1:\n",
        "    cantCucas = 1\n",
        "  elif nPiso % 2 == 0:\n",
        "    cantCucas = 2 * nPiso\n",
        "  else:\n",
        "    cantCucas = cucasEnPiso(nPiso - 1) + cucasEnPiso(nPiso - 2)\n",
        "  return cantCucas\n",
        "\n",
        "#Calcula cantidad total de cuca en un edificio de nPisos\n",
        "def cucasEnEdificio(nPisos):\n",
        "  "
      ],
      "execution_count": null,
      "outputs": []
    },
    {
      "cell_type": "markdown",
      "metadata": {
        "id": "HnGv90m72_dg"
      },
      "source": [
        "### **Ejercicio 11**\n",
        "\n",
        "Escribir la función recursiva repetirPalabra, que recibe como parámetro una palabra (cadena de caracteres) y un número N. La función debe retornar una nueva cadena que contenga la palabra repetida N veces, por ejemplo:\n",
        "\n",
        "*repetirPalabra(\"hola\",3) -> \"holaholahola\"*"
      ]
    },
    {
      "cell_type": "code",
      "metadata": {
        "id": "sLVYYAqz3zX_"
      },
      "source": [
        ""
      ],
      "execution_count": null,
      "outputs": []
    },
    {
      "cell_type": "markdown",
      "metadata": {
        "id": "OuXPsBX64RLT"
      },
      "source": [
        "### **Ejercicio 12**\n",
        "\n",
        "Escribir una función recursiva que calcule el número combinatorio, es decir, las combinaciones de N elementos tomados de a M, usando la siguiente expresión:\n",
        "\n",
        "![numeroCombiantorio.png](https://i.ibb.co/y408VDB/numero-Combiantorio.png)"
      ]
    },
    {
      "cell_type": "code",
      "metadata": {
        "id": "zk-lsLvu4Qwp"
      },
      "source": [
        "def numCombinatorio(N, M):\n",
        "  resultado = 0\n",
        "  if M == 1:\n",
        "    resultado = N\n",
        "  elif N == M:\n",
        "    resultado = 1\n",
        "  else:\n",
        "    resultado = numCombinatorio(N-1, M-1) + numCombinatorio(N-1, M)\n",
        "  return resultado"
      ],
      "execution_count": null,
      "outputs": []
    },
    {
      "cell_type": "markdown",
      "metadata": {
        "id": "QL1a0WtI89QA"
      },
      "source": [
        "### **Ejercicio 13**\n",
        "\n",
        "Juan y María empiezan a trabajar el mismo día en dos empresas distintas. Juan arregla un sueldo inicial de \\$40000 con una actualización mensual del 2% y María un sueldo inicial de \\$25000 con una actualización mensual del 5%. Calcular recursivamente los sueldos de Juan y de María luego de transcurridos una cantidad determinada de meses.\n",
        "\n",
        "Luego, escribir un programa que calcule y muestre por pantalla cuantos meses tienen que pasar para que el sueldo de María supere al de Juan."
      ]
    },
    {
      "cell_type": "code",
      "metadata": {
        "id": "KMkkp7XX888v"
      },
      "source": [
        ""
      ],
      "execution_count": null,
      "outputs": []
    }
  ]
}